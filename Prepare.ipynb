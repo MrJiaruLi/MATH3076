{
 "cells": [
  {
   "cell_type": "markdown",
   "metadata": {},
   "source": [
    "# FINAL EXAM: MATHEMATICAL COMPUTING (MATH 3076/3976)\n",
    "\n",
    "<br>\n"
   ]
  },
  {
   "cell_type": "markdown",
   "metadata": {},
   "source": [
    "## INSTRUCTIONS:\n",
    "\n",
    "<br>\n",
    "\n",
    "**THE EXAM COMPRISES 14 QUESTIONS. **\n",
    "\n",
    "**EACH QUESTION TESTS SPECIFIC SKILLS. **\n",
    "\n",
    "**THE QUESTIONS ARE MARKED WITH 1, 2, OR 3 STARS, $\\star$. **\n",
    "\n",
    "** THERE ARE 28 STARS IN TOTAL.**\n",
    "    \n",
    "**THE STARS ARE AN APPROXIMATE GUIDE TO THE DIFFICULTY AND/OR VAULE OF A QUESTION. **\n",
    "\n",
    "**SOME QUESTIONS HAVE AN EXTRA SECOND PART WITH ANOTHER STAR. **\n",
    "\n",
    "<br>\n",
    "\n",
    "**READ THE INSTRUCTIONS TO EACH QUESTION CAREFULLY. **\n",
    "\n",
    "**REQUIRED FUNCTIONS CONTAIN DOCSTRINGS EXPLAINING WHAT THE INPUT AND OUT MUST BE.**\n",
    "\n",
    "**PUT YOUR CODE BELOW THE COMMENTS.**\n",
    "\n",
    "**EACH FUNCTION CONTAINS A GUIDE TO THE APPROXIMATE LENGTH OF CODE NEED TO COMPLETE THE TASK.**\n",
    "\n",
    "**YOU MIGHT USE MORE OR LESS. BUT IF YOU NEED A LOT MORE, IT MIGHT MEAN YOU ARE OFF TRACK.**\n",
    "\n",
    "<br>\n",
    "\n",
    "**YOU ARE ALLOWED TO USE ANY MATERIAL ON YOUR OWN *COCALC.COM* ACCOUNT. ** \n",
    "\n",
    "**YOU ARE NOT ALLOWED TO USE ANY OTHER RESOURCES. ** \n",
    "\n",
    "<br>\n",
    "\n",
    "**YOU HAVE 10 MINUTES TO READ THE INSTRUCTIONS AND TEST THE CODE *ABOVE* THE DASHED LINE.**\n",
    "\n",
    "**AFTER THAT, YOU WILL HAVE 10 MINUTES TO READ THE ENTIER EXAM ; STARTING AT 9:20 AM**\n",
    "\n",
    "**AFTER THAT, YOU WILL HAVE 3 HOURS TO WORK ON THE QUESTIONS ; STARTING AT 9:30 AM**\n",
    "\n",
    "**THE EXAM WILL BE COLLECTED AUTOMATICALLY AT 12:30 PM.**\n",
    "\n",
    "\n",
    "\n",
    "<br>\n",
    "\n",
    "** THIS EXAM IS CONFIDENTIAL. **\n",
    "\n",
    "** COPYRIGHT : THE UNIVERSITY OF SYDNEY 2017.**\n",
    "\n",
    "\n",
    "\n",
    "<br>\n",
    "\n",
    "\n",
    "\n",
    "\n",
    "\n",
    "## IF YOU HAVE A PROBLEM WITH YOUR NOTEBOOK FREEZING OR GIVING STRANGE MESSAGES, IT CAN BE BECAUSE YOU HAVE TOO MANY TABS OPEN.\n",
    "\n",
    "## TO FIX THE PROBLEM:\n",
    "\n",
    "## 1) Go into Jupyter's menu, and do \"File -> Close and Halt\". JUST CLOSING THE TABS WILL LEAVE THINGS RUNNING AND USE MEMORY.\n",
    "\n",
    "## 2) Reconnecting to CoCalc. Click on the connection information in the top right of the interface. A \"connection\" dialog should show up with a \"reconnect\" button.\n",
    "\n",
    "## 3) Refresh the CoCalc website.\n",
    "\n",
    "## 4) CONTACT YOUR SUPERVISOR. THEY CAN CONTACT ME.\n",
    "\n",
    "<br>\n",
    "\n",
    "\n",
    "## TEST CODE:"
   ]
  },
  {
   "cell_type": "markdown",
   "metadata": {},
   "source": [
    "**MAKE SURE THESE MODULES IMPORT PROPERLY.**\n",
    "\n",
    "    PRESS 'SHIFT ENTER' TO EVALUATE A CELL.\n",
    "\n",
    "    DO NOT EVALUATE THE ENTIRE NOTEBOOK AT ONE TIME. \n"
   ]
  },
  {
   "cell_type": "code",
   "execution_count": 3,
   "metadata": {
    "collapsed": true
   },
   "outputs": [],
   "source": [
    "import numpy as np\n",
    "import matplotlib.pyplot as plt\n",
    "%matplotlib inline"
   ]
  },
  {
   "cell_type": "markdown",
   "metadata": {},
   "source": [
    "**EVALUATE THE FOLLOWING CELLS AND MAKE SURE THEY GIVE GOOD RESULTS:**"
   ]
  },
  {
   "cell_type": "code",
   "execution_count": 4,
   "metadata": {},
   "outputs": [
    {
     "name": "stdout",
     "output_type": "stream",
     "text": [
      "HELLO WORLD!\n"
     ]
    }
   ],
   "source": [
    "print('HELLO WORLD!')"
   ]
  },
  {
   "cell_type": "code",
   "execution_count": 5,
   "metadata": {},
   "outputs": [
    {
     "data": {
      "text/plain": [
       "2"
      ]
     },
     "execution_count": 5,
     "metadata": {},
     "output_type": "execute_result"
    }
   ],
   "source": [
    "1+1"
   ]
  },
  {
   "cell_type": "code",
   "execution_count": 6,
   "metadata": {},
   "outputs": [
    {
     "data": {
      "text/plain": [
       "[<matplotlib.lines.Line2D at 0x20fe222fe80>]"
      ]
     },
     "execution_count": 6,
     "metadata": {},
     "output_type": "execute_result"
    },
    {
     "data": {
      "image/png": "[encoded data removed]",
      "text/plain": [
       "<matplotlib.figure.Figure at 0x20fe218d588>"
      ]
     },
     "metadata": {},
     "output_type": "display_data"
    }
   ],
   "source": [
    "plt.plot([0,1,2,3,4,5,6,7,8,9,10,11,12],[0,1,4,9,16,25,36,49,64,81,100,121,144])"
   ]
  },
  {
   "cell_type": "markdown",
   "metadata": {},
   "source": [
    "<br>\n",
    "\n",
    "# STOP HERE UNTIL INSTRUCTED TO PROCEED!\n",
    "\n",
    "# **------------------------------------------------------------------------------------------- **"
   ]
  },
  {
   "cell_type": "markdown",
   "metadata": {},
   "source": [
    "    \n",
    "<br>\n",
    "  \n",
    "<br>\n",
    "    \n",
    "<br>\n",
    "    \n",
    "<br>\n",
    "    \n",
    "<br>\n",
    "\n",
    "<br>\n",
    "  \n",
    "<br>\n",
    "    \n",
    "<br>\n",
    "    \n",
    "<br>\n",
    "    \n",
    "<br>\n",
    "\n",
    "<br>\n",
    "  \n",
    "<br>\n",
    "    \n",
    "<br>\n",
    "    \n",
    "<br>\n",
    "    \n",
    "<br>\n",
    "\n",
    "<br>\n",
    "  \n",
    "<br>\n",
    "    \n",
    "<br>\n",
    "    \n",
    "<br>\n",
    "    \n",
    "<br>\n",
    "\n",
    "<br>\n",
    "  \n",
    "<br>\n",
    "    \n",
    "<br>\n",
    "    \n",
    "<br>\n",
    "    \n",
    "<br>\n",
    "\n",
    "<br>\n",
    "  \n",
    "<br>\n",
    "    \n",
    "<br>\n",
    "    \n",
    "<br>\n",
    "    \n",
    "<br>\n",
    "\n",
    "<br>\n",
    "  \n",
    "<br>\n",
    "    \n",
    "<br>\n",
    "    \n",
    "<br>\n",
    "    \n",
    "<br>\n",
    "\n",
    "<br>\n",
    "  \n",
    "<br>\n",
    "    \n",
    "<br>\n",
    "    \n",
    "<br>\n",
    "    \n",
    "<br>\n",
    "<br>\n",
    "  \n",
    "<br>\n",
    "    \n",
    "<br>\n",
    "    \n",
    "<br>\n",
    "    \n",
    "<br>\n",
    "\n",
    "<br>\n",
    "  \n",
    "<br>\n",
    "    \n",
    "<br>\n",
    "    \n",
    "<br>\n",
    "    \n",
    "<br>\n",
    "\n",
    "<br>\n",
    "  \n",
    "<br>\n",
    "    \n",
    "<br>\n",
    "    \n",
    "<br>\n",
    "    \n",
    "<br>\n",
    "\n",
    "<br>\n",
    "  \n",
    "<br>\n",
    "    \n",
    "<br>\n",
    "    \n",
    "<br>\n",
    "    \n",
    "<br>\n",
    "<br>\n",
    "  \n",
    "<br>\n",
    "    \n",
    "<br>\n",
    "    \n",
    "<br>\n",
    "    \n",
    "<br>\n",
    "\n",
    "<br>\n",
    "  \n",
    "<br>\n",
    "    \n",
    "<br>\n",
    "    \n",
    "<br>\n",
    "    \n",
    "<br>\n",
    "\n",
    "<br>\n",
    "  \n",
    "<br>\n",
    "    \n",
    "<br>\n",
    "    \n",
    "<br>\n",
    "    \n",
    "<br>\n",
    "\n",
    "<br>\n",
    "  \n",
    "<br>\n",
    "    \n",
    "<br>\n",
    "    \n",
    "<br>\n",
    "    \n",
    "<br>\n",
    "<br>\n",
    "  \n",
    "<br>\n",
    "    \n",
    "<br>\n",
    "    \n",
    "<br>\n",
    "    \n",
    "<br>\n",
    "\n",
    "<br>\n",
    "  \n",
    "<br>\n",
    "    \n",
    "<br>\n",
    "    \n",
    "<br>\n",
    "    \n",
    "<br>\n",
    "\n",
    "<br>\n",
    "  \n",
    "<br>\n",
    "    \n",
    "<br>\n",
    "    \n",
    "<br>\n",
    "    \n",
    "<br>\n",
    "\n",
    "<br>\n",
    "  \n",
    "<br>\n",
    "    \n",
    "<br>\n",
    "    \n",
    "<br>\n",
    "    \n",
    "<br>\n",
    "<br>\n",
    "  \n",
    "<br>\n",
    "    \n",
    "<br>\n",
    "    \n",
    "<br>\n",
    "    \n",
    "<br>\n",
    "\n",
    "<br>\n",
    "  \n",
    "<br>\n",
    "    \n",
    "<br>\n",
    "    \n",
    "<br>\n",
    "    \n",
    "<br>\n",
    "\n",
    "<br>\n",
    "  \n",
    "<br>\n",
    "    \n",
    "<br>\n",
    "    \n",
    "<br>\n",
    "    \n",
    "<br>\n",
    "\n",
    "<br>\n",
    "  \n",
    "<br>\n",
    "    \n",
    "<br>\n",
    "    \n",
    "<br>\n",
    "    \n",
    "<br>\n",
    "    \n",
    "<br>\n",
    "  \n",
    "<br>\n",
    "    \n",
    "<br>\n",
    "    \n",
    "<br>\n",
    "    \n",
    "<br>\n",
    "\n",
    "<br>\n",
    "  \n",
    "<br>\n",
    "    \n",
    "<br>\n",
    "    \n",
    "<br>\n",
    "    \n",
    "<br>\n",
    "\n",
    "<br>\n",
    "  \n",
    "<br>\n",
    "    \n",
    "<br>\n",
    "    \n",
    "<br>\n",
    "    \n",
    "<br>\n",
    "\n",
    "<br>\n",
    "  \n",
    "<br>\n",
    "    \n",
    "<br>\n",
    "    \n",
    "<br>\n",
    "    \n",
    "<br>\n",
    "\n",
    "<br>\n",
    "  \n",
    "<br>\n",
    "    \n",
    "<br>\n",
    "    \n",
    "<br>\n",
    "    \n",
    "<br>\n",
    "\n",
    "<br>\n",
    "  \n",
    "<br>\n",
    "    \n",
    "<br>\n",
    "    \n",
    "<br>\n",
    "    \n",
    "<br>\n",
    "\n",
    "<br>\n",
    "  \n",
    "<br>\n",
    "    \n",
    "<br>\n",
    "    \n",
    "<br>\n",
    "    \n",
    "<br>\n",
    "\n",
    "<br>\n",
    "  \n",
    "<br>\n",
    "    \n",
    "<br>\n",
    "    \n",
    "<br>\n",
    "    \n",
    "<br>\n",
    "<br>\n",
    "  \n",
    "<br>\n",
    "    \n",
    "<br>\n",
    "    \n",
    "<br>\n",
    "    \n",
    "<br>\n",
    "\n",
    "<br>\n",
    "  \n",
    "<br>\n",
    "    \n",
    "<br>\n",
    "    \n",
    "<br>\n",
    "    \n",
    "<br>\n",
    "\n",
    "<br>\n",
    "  \n",
    "<br>\n",
    "    \n",
    "<br>\n",
    "    \n",
    "<br>\n",
    "    \n",
    "<br>\n",
    "\n",
    "<br>\n",
    "  \n",
    "<br>\n",
    "    \n",
    "<br>\n",
    "    \n",
    "<br>\n",
    "    \n",
    "<br>\n",
    "<br>\n",
    "  \n",
    "<br>\n",
    "    \n",
    "<br>\n",
    "    \n",
    "<br>\n",
    "    \n",
    "<br>\n",
    "\n",
    "<br>\n",
    "  \n",
    "<br>\n",
    "    \n",
    "<br>\n",
    "    \n",
    "<br>\n",
    "    \n",
    "<br>\n",
    "\n",
    "<br>\n",
    "  \n",
    "<br>\n",
    "    \n",
    "<br>\n",
    "    \n",
    "<br>\n",
    "    \n",
    "<br>\n",
    "\n",
    "<br>\n",
    "  \n",
    "<br>\n",
    "    \n",
    "<br>\n",
    "    \n",
    "<br>\n",
    "    \n",
    "<br>\n",
    "<br>\n",
    "  \n",
    "<br>\n",
    "    \n",
    "<br>\n",
    "    \n",
    "<br>\n",
    "    \n",
    "<br>\n",
    "\n",
    "<br>\n",
    "  \n",
    "<br>\n",
    "    \n",
    "<br>\n",
    "    \n",
    "<br>\n",
    "    \n",
    "<br>\n",
    "\n",
    "<br>\n",
    "  \n",
    "<br>\n",
    "    \n",
    "<br>\n",
    "    \n",
    "<br>\n",
    "    \n",
    "<br>\n",
    "\n",
    "<br>\n",
    "  \n",
    "<br>\n",
    "    \n",
    "<br>\n",
    "    \n",
    "<br>\n",
    "    \n",
    "<br>\n",
    "<br>\n",
    "  \n",
    "<br>\n",
    "    \n",
    "<br>\n",
    "    \n",
    "<br>\n",
    "    \n",
    "<br>\n",
    "\n",
    "<br>\n",
    "  \n",
    "<br>\n",
    "    \n",
    "<br>\n",
    "    \n",
    "<br>\n",
    "    \n",
    "<br>\n",
    "\n",
    "<br>\n",
    "  \n",
    "<br>\n",
    "    \n",
    "<br>\n",
    "    \n",
    "<br>\n",
    "    \n",
    "<br>\n",
    "\n",
    "<br>\n",
    "  \n",
    "<br>\n",
    "    \n",
    "<br>\n",
    "    \n",
    "<br>\n",
    "    \n",
    "<br>\n",
    "\n",
    "    \n",
    "<br>\n",
    "  \n",
    "<br>\n",
    "    \n",
    "<br>\n",
    "    \n",
    "<br>\n",
    "    \n",
    "<br>\n",
    "\n",
    "<br>\n",
    "  \n",
    "<br>\n",
    "    \n",
    "<br>\n",
    "    \n",
    "<br>\n",
    "    \n",
    "<br>\n",
    "\n",
    "<br>\n",
    "  \n",
    "<br>\n",
    "    \n",
    "<br>\n",
    "    \n",
    "<br>\n",
    "    \n",
    "<br>\n",
    "\n",
    "<br>\n",
    "  \n",
    "<br>\n",
    "    \n",
    "<br>\n",
    "    \n",
    "<br>\n",
    "    \n",
    "<br>\n",
    "\n",
    "<br>\n",
    "  \n",
    "<br>\n",
    "    \n",
    "<br>\n",
    "    \n",
    "<br>\n",
    "    \n",
    "<br>\n",
    "\n",
    "<br>\n",
    "  \n",
    "<br>\n",
    "    \n",
    "<br>\n",
    "    \n",
    "<br>\n",
    "    \n",
    "<br>\n",
    "\n",
    "<br>\n",
    "  \n",
    "<br>\n",
    "    \n",
    "<br>\n",
    "    \n",
    "<br>\n",
    "    \n",
    "<br>\n",
    "\n",
    "<br>\n",
    "  \n",
    "<br>\n",
    "    \n",
    "<br>\n",
    "    \n",
    "<br>\n",
    "    \n",
    "<br>\n",
    "<br>\n",
    "  \n",
    "<br>\n",
    "    \n",
    "<br>\n",
    "    \n",
    "<br>\n",
    "    \n",
    "<br>\n",
    "\n",
    "<br>\n",
    "  \n",
    "<br>\n",
    "    \n",
    "<br>\n",
    "    \n",
    "<br>\n",
    "    \n",
    "<br>\n",
    "\n",
    "<br>\n",
    "  \n",
    "<br>\n",
    "    \n",
    "<br>\n",
    "    \n",
    "<br>\n",
    "    \n",
    "<br>\n",
    "\n",
    "<br>\n",
    "  \n",
    "<br>\n",
    "    \n",
    "<br>\n",
    "    \n",
    "<br>\n",
    "    \n",
    "<br>\n",
    "<br>\n",
    "  \n",
    "<br>\n",
    "    \n",
    "<br>\n",
    "    \n",
    "<br>\n",
    "    \n",
    "<br>\n",
    "\n",
    "<br>\n",
    "  \n",
    "<br>\n",
    "    \n",
    "<br>\n",
    "    \n",
    "<br>\n",
    "    \n",
    "<br>\n",
    "\n",
    "<br>\n",
    "  \n",
    "<br>\n",
    "    \n",
    "<br>\n",
    "    \n",
    "<br>\n",
    "    \n",
    "<br>\n",
    "\n",
    "<br>\n",
    "  \n",
    "<br>\n",
    "    \n",
    "<br>\n",
    "    \n",
    "<br>\n",
    "    \n",
    "<br>\n",
    "<br>\n",
    "  \n",
    "<br>\n",
    "    \n",
    "<br>\n",
    "    \n",
    "<br>\n",
    "    \n",
    "<br>\n",
    "\n",
    "<br>\n",
    "  \n",
    "<br>\n",
    "    \n",
    "<br>\n",
    "    \n",
    "<br>\n",
    "    \n",
    "<br>\n",
    "\n",
    "<br>\n",
    "  \n",
    "<br>\n",
    "    \n",
    "<br>\n",
    "    \n",
    "<br>\n",
    "    \n",
    "<br>\n",
    "\n",
    "<br>\n",
    "  \n",
    "<br>\n",
    "    \n",
    "<br>\n",
    "    \n",
    "<br>\n",
    "    \n",
    "<br>\n",
    "<br>\n",
    "  \n",
    "<br>\n",
    "    \n",
    "<br>\n",
    "    \n",
    "<br>\n",
    "    \n",
    "<br>\n",
    "\n",
    "<br>\n",
    "  \n",
    "<br>\n",
    "    \n",
    "<br>\n",
    "    \n",
    "<br>\n",
    "    \n",
    "<br>\n",
    "\n",
    "<br>\n",
    "  \n",
    "<br>\n",
    "    \n",
    "<br>\n",
    "    \n",
    "<br>\n",
    "    \n",
    "<br>\n",
    "\n",
    "<br>\n",
    "  \n",
    "<br>\n",
    "    \n",
    "<br>\n",
    "    \n",
    "<br>\n",
    "    \n",
    "<br>"
   ]
  },
  {
   "cell_type": "markdown",
   "metadata": {
    "collapsed": true
   },
   "source": [
    "# BEGIN QUESTIONS\n",
    "\n",
    "\n",
    "<br>"
   ]
  },
  {
   "cell_type": "markdown",
   "metadata": {},
   "source": [
    "### **$\\star$ QUESTION 1:** \n",
    "\n",
    "Make a function called `greeting` that takes two strings `(name, date)` as arguments and prints the following message:\n",
    "\n",
    "    Hello, 'name'. Today is: 'date'.\n",
    "    \n",
    "**$\\star$**  Also include an optional argument called `Spanish`; with `Spanish=False` by default. If `Spanish=True`, make your function print \n",
    "\n",
    "    Hola, 'name'! Hoy es: 'date'!\n",
    "    \n",
    "For example, \n",
    "\n",
    "    > greeting('Boss','Monday')\n",
    "    \n",
    "should return \n",
    "\n",
    "    Hello, Boss. Today is: Monday.\n",
    "    \n",
    "And \n",
    " \n",
    "     > greeting('Jefe','Lunes',Spanish=True)\n",
    "        \n",
    "should return \n",
    "    \n",
    "    Hola, Jefe! Hoy es: Lunes!\n",
    "    "
   ]
  },
  {
   "cell_type": "code",
   "execution_count": 7,
   "metadata": {},
   "outputs": [],
   "source": [
    "def greeting(name,date,Spanish=False):\n",
    "    \"\"\"Returns greeting with name and data.\n",
    "    \n",
    "       Parameters\n",
    "       ----------\n",
    "       name: string\n",
    "       date: string\n",
    "       Spanish: T/F\n",
    "       \n",
    "    \"\"\"\n",
    "    \n",
    "    ### YOUR CODE HERE  ###\n",
    "    if Spanish==False: print('Hello, '+name+'. Today is: '+date+'.')\n",
    "    \n",
    "    if Spanish: print('Hola, '+name+'! Hoy es: '+date+'!')\n",
    "\n",
    "    ### APPROX. 4 LINES ###\n",
    "    \n",
    "    "
   ]
  },
  {
   "cell_type": "markdown",
   "metadata": {},
   "source": [
    "Test your function with your name, and today's date. Test one case with the default, and the other with the Spanish option."
   ]
  },
  {
   "cell_type": "code",
   "execution_count": 8,
   "metadata": {},
   "outputs": [
    {
     "name": "stdout",
     "output_type": "stream",
     "text": [
      "Hello, Boss. Today is: Monday.\n",
      "Hola, Jefe! Hoy es: Lunes!\n"
     ]
    }
   ],
   "source": [
    "## YOUR CODE HERE ##\n",
    "greeting('Boss','Monday')\n",
    "greeting('Jefe','Lunes',Spanish=True)"
   ]
  },
  {
   "cell_type": "markdown",
   "metadata": {},
   "source": [
    "<br>\n",
    "\n",
    "<br>\n",
    "\n",
    "<br>\n",
    "\n",
    "<br>\n",
    "\n",
    "<br>\n",
    "\n",
    "<br>\n",
    "\n",
    "<br>\n",
    "\n",
    "<br>"
   ]
  },
  {
   "cell_type": "markdown",
   "metadata": {},
   "source": [
    "### **$\\star$ QUESTION 2:** \n",
    "\n",
    "Write a function called `print_odd_numbers` that prints every odd integer between any two odd integers. The function should take two odd integers `(a, b)` as arguments. \n",
    "\n",
    "For example:\n",
    "\n",
    "    > print_odds(3,9) \n",
    "    \n",
    "should give \n",
    "\n",
    "    3\n",
    "    5\n",
    "    7\n",
    "    9\n",
    "    \n",
    "$\\star$ The function should print an error message:\n",
    "\n",
    "    if either a or b is not an integer,\n",
    "    \n",
    "    if either a or b is not odd, \n",
    "    \n",
    "    if a is greater than b.\n",
    "    \n",
    "Catching one or two of these conditions is better than catching none."
   ]
  },
  {
   "cell_type": "code",
   "execution_count": 9,
   "metadata": {},
   "outputs": [],
   "source": [
    "def print_odd_numbers(a,b):\n",
    "    \"\"\"Prints odd numbers between a and b, with a and b included.\n",
    "    \n",
    "       Parameters\n",
    "       ----------\n",
    "       a: odd integer\n",
    "       b: odd integer\n",
    "       \n",
    "    \"\"\"\n",
    "    \n",
    "    ### YOUR CODE HERE  ###\n",
    "    if a>b or a%2==0 or b%2==0 or int(a)!=a or int(b)!=b : print('Error, a is greter than b, or one of them is even, or one of them is not an integer')\n",
    "    \n",
    "    if a<b and a%2!=0 and b%2!=0 and round(a)==a and round(b)==b: \n",
    "        n=a\n",
    "        while n<b+1:\n",
    "            print(n)\n",
    "            n+=2\n",
    "        \n",
    "    ### APPROX. 4 LINES ###\n",
    "    \n",
    "    "
   ]
  },
  {
   "cell_type": "code",
   "execution_count": 10,
   "metadata": {},
   "outputs": [
    {
     "name": "stdout",
     "output_type": "stream",
     "text": [
      "5\n",
      "7\n",
      "9\n",
      "11\n",
      "13\n",
      "15\n",
      "17\n"
     ]
    }
   ],
   "source": [
    "### TEST CODE HERE ###\n",
    "print_odd_numbers(5,17)"
   ]
  },
  {
   "cell_type": "markdown",
   "metadata": {},
   "source": [
    "<br>\n",
    "\n",
    "<br>\n",
    "\n",
    "<br>\n",
    "\n",
    "<br>\n",
    "\n",
    "<br>\n",
    "\n",
    "<br>\n",
    "\n",
    "<br>\n",
    "\n",
    "<br>"
   ]
  },
  {
   "cell_type": "markdown",
   "metadata": {},
   "source": [
    "### **$\\star \\star \\star$ QUESTION 3:** \n",
    "\n",
    "Write a function called  `stopping_time  ` that takes one integer argument, `N`.\n",
    "\n",
    "The function should do the following \n",
    "    \n",
    "    0) Make an empty list, L.\n",
    "    \n",
    "    1) Draw a random integer, n, between 0, ... , N-1\n",
    "           \n",
    "        Hint: np.random.randint(N) will do this.\n",
    "    \n",
    "    2) If n is not in L, put n into L.\n",
    "    \n",
    "    3) Stop if L contains all the numbers between 0, ... , N-1; otherwise keep going.\n",
    "        \n",
    "        Hint: check len(L).\n",
    "    \n",
    "    4) Return the number of iterations needed to fill the list.\n",
    "    \n",
    "Hint: each step outlined above can fit within a single line of code. My solution only required two additional lines of code of make it work."
   ]
  },
  {
   "cell_type": "code",
   "execution_count": 11,
   "metadata": {},
   "outputs": [],
   "source": [
    "def stopping_time(N):\n",
    "    \"\"\"Returns the number of random draws needed \n",
    "       to get every number between 0 and N-1 at least once.\n",
    "    \n",
    "       Parameters\n",
    "       ----------\n",
    "       N: positive integer\n",
    "       \n",
    "    \"\"\"\n",
    "    \n",
    "    ## YOUR CODE HERE  ##\n",
    "    L=np.arange(1,N+1)*0+0.0\n",
    "            \n",
    "    for item in range(N):\n",
    "        n=np.random.rand(1)*N  \n",
    "        L[item]=n\n",
    "        while len(L[np.where(L==n)])>1: n=np.random.rand(1)*N  \n",
    "        if len(L[np.where(L==n)])<1: L[item]=n\n",
    "          \n",
    "    return L\n",
    "            \n",
    "    ## APPROX. 6 LINES ##\n",
    "    \n",
    "    "
   ]
  },
  {
   "cell_type": "code",
   "execution_count": 12,
   "metadata": {},
   "outputs": [
    {
     "name": "stdout",
     "output_type": "stream",
     "text": [
      "[  3.26506965e+00   2.23822897e+00   5.58183484e+00   3.75486690e-03\n",
      "   3.86159619e+00   8.92416698e+00   6.70203314e+00   3.90612115e+00\n",
      "   1.77295037e+00   5.82193389e+00]\n"
     ]
    }
   ],
   "source": [
    "## TEST CODE HERE ##\n",
    "stopping_time(10)\n",
    "print(stopping_time(10))"
   ]
  },
  {
   "cell_type": "markdown",
   "metadata": {},
   "source": [
    "<br>\n",
    "\n",
    "<br>\n",
    "\n",
    "<br>\n",
    "\n",
    "<br>\n",
    "\n",
    "<br>\n",
    "\n",
    "<br>\n",
    "\n",
    "<br>\n",
    "\n",
    "<br>"
   ]
  },
  {
   "cell_type": "markdown",
   "metadata": {},
   "source": [
    "### **$\\star$ QUESTION 4:** \n",
    "\n",
    "Write a function called `sample` that takes as arguments: \n",
    "\n",
    "a function that returns a random value, `rfun`,  \n",
    "two integer arguments `(N,S)`. \n",
    "\n",
    "The `sample` function should compute `rfun(N)` repeatedly `S` times and return the values in a `numpy` array."
   ]
  },
  {
   "cell_type": "code",
   "execution_count": 13,
   "metadata": {},
   "outputs": [],
   "source": [
    "def sample(rfun,N,S):\n",
    "    \"\"\"Samples a random function, rfun(N), S times. \n",
    "       Returns a lenght=S numpy array with the samples.\n",
    "    \n",
    "       Parameters\n",
    "       ----------\n",
    "       fun: a function that returns random number. \n",
    "       N: positive integer argument of rfun.\n",
    "       S: positive integer number of samples.\n",
    "       \n",
    "    \"\"\"\n",
    "\n",
    "    ## YOUR CODE HERE  ##\n",
    "    Sample=np.zeros(S)+0.0\n",
    "    for item in range(S): \n",
    "        rfun=stopping_time(N)\n",
    "        Sample[item]=rfun[np.random.randint(1,N)]\n",
    "    return Sample\n",
    "\n",
    "    ## APPROX. 4 LINES ##\n",
    "    \n",
    "    "
   ]
  },
  {
   "cell_type": "markdown",
   "metadata": {},
   "source": [
    "$\\star$ Sample `stopping_time(10)` for `S = 100000`. Print the `median` of the set.\n",
    "\n",
    "If you did not get `stopping_time` to work you can use the following function instead:"
   ]
  },
  {
   "cell_type": "code",
   "execution_count": 14,
   "metadata": {
    "collapsed": true
   },
   "outputs": [],
   "source": [
    "def fake_stopping_time(N):\n",
    "    S = 0\n",
    "    for i in range(N):\n",
    "        S += np.random.randint(1,N+1)\n",
    "    return (S*S)//(N*N)"
   ]
  },
  {
   "cell_type": "markdown",
   "metadata": {},
   "source": [
    "<br>"
   ]
  },
  {
   "cell_type": "code",
   "execution_count": 15,
   "metadata": {},
   "outputs": [],
   "source": [
    "## COMPUTE SAMPLES HERE ##\n",
    "N=10\n",
    "S=100000\n",
    "\n",
    "Sample=sample(stopping_time,N,S)"
   ]
  },
  {
   "cell_type": "code",
   "execution_count": 16,
   "metadata": {
    "collapsed": true
   },
   "outputs": [],
   "source": [
    "import statistics"
   ]
  },
  {
   "cell_type": "code",
   "execution_count": 17,
   "metadata": {},
   "outputs": [
    {
     "name": "stdout",
     "output_type": "stream",
     "text": [
      "median =  4.96027540466\n"
     ]
    }
   ],
   "source": [
    "## PRINT MEDIAN HERE ##\n",
    "print('median = ', statistics.median(Sample))"
   ]
  },
  {
   "cell_type": "markdown",
   "metadata": {},
   "source": [
    "<br>\n",
    "\n",
    "<br>\n",
    "\n",
    "<br>\n",
    "\n",
    "<br>\n",
    "\n",
    "<br>\n",
    "\n",
    "<br>\n",
    "\n",
    "<br>\n",
    "\n",
    "<br>"
   ]
  },
  {
   "cell_type": "markdown",
   "metadata": {},
   "source": [
    "### **$\\star$ QUESTION 5:** \n",
    "\n",
    "Plot a `histogram` of your 100,000 samples of `stopping_time(10)`; or `fake_stopping_time(10)` if you didn't get `stopping_time` to work. Make sure to label the axes properly. Adjust the number of bins so that the plot doesn't have a lot of huge spikes or gaps; somewhere between `100` to to `200` will likely work."
   ]
  },
  {
   "cell_type": "code",
   "execution_count": 18,
   "metadata": {},
   "outputs": [
    {
     "data": {
      "text/plain": [
       "<matplotlib.text.Text at 0x20fe2438a20>"
      ]
     },
     "execution_count": 18,
     "metadata": {},
     "output_type": "execute_result"
    },
    {
     "data": {
      "image/png": "[encoded data removed]",
      "text/plain": [
       "<matplotlib.figure.Figure at 0x20fe229e160>"
      ]
     },
     "metadata": {},
     "output_type": "display_data"
    }
   ],
   "source": [
    "##  MAKE PLOT HERE ##\n",
    "fig, ax = plt.subplots(1,1,figsize=(14,4))\n",
    "\n",
    "bins = 200 #adjust between 1-200\n",
    "\n",
    "H0 = ax.hist(Sample, bins=bins, alpha=1.0, histtype='stepfilled',color='black')\n",
    "# ax[0].set_xlim(-2,2)\n",
    "\n",
    "ax.set_xlabel('x')\n",
    "ax.set_ylabel('number')\n",
    "ax.set_title('Stat Sample')\n"
   ]
  },
  {
   "cell_type": "markdown",
   "metadata": {
    "collapsed": true
   },
   "source": [
    "<br>\n",
    "\n",
    "<br>\n",
    "\n",
    "<br>\n",
    "\n",
    "<br>\n",
    "\n",
    "<br>\n",
    "\n",
    "<br>\n",
    "\n",
    "<br>\n",
    "\n",
    "<br>"
   ]
  },
  {
   "cell_type": "markdown",
   "metadata": {
    "collapsed": true
   },
   "source": [
    "### **$\\star \\star$ QUESTION 6:** \n",
    "\n",
    "In the first few lectures we discussed the idea that \n",
    "\n",
    "$$\n",
    "x^{n} \\ = \\ \\begin{cases}   \\ 1 & \\mathrm{if} & n \\ \\ \\ \\mathrm{is} \\ \\ \\  \\mathrm{zero} \\\\\n",
    "                            \\\\\n",
    "                            \\ x \\, \\,x^{n-1}  & \\mathrm{if} & n \\ \\ \\ \\mathrm{is} \\ \\ \\  \\mathrm{odd} \\\\\n",
    "                            \\\\\n",
    "                            \\  x^{n/2} \\, \\,x^{n/2} & \\mathrm{if} & n \\ \\ \\ \\mathrm{is} \\ \\ \\  \\mathrm{even}\n",
    "            \\end{cases}\n",
    "$$\n",
    "\n",
    "\n",
    "Write a *recursive* function (* i.e.,* a function that calls itself ) that computes\n",
    "\n",
    "$$\n",
    "M^{n}\\ , \\quad \\mathrm{where} \\ \\ M \\ \\  \\mathrm{is \\ \\ a \\ \\ square \\ \\ matrix, \\ \\ and} \\ \\ n \\ \\ \\mathrm{is \\ \\ a \\ \\ non\\!-\\!negative \\ \\ integer.}\n",
    "$$\n",
    "\n",
    "Multiplication in this case refers to *matrix multiplication*; not element-by-element multiplication. This function should *not* use the Python `**` operation.\n",
    "\n",
    "\n",
    "*Hint: Your function will be a lot faster if it only calls itself once for each stage.* That is, don't call $M^{n/2}$ two times.\n"
   ]
  },
  {
   "cell_type": "code",
   "execution_count": 19,
   "metadata": {},
   "outputs": [],
   "source": [
    "def matrix_power(M,n):\n",
    "    \"\"\"Recursive matrix exponentiation. \n",
    "       Returns M (matrix) multiplied by itself n times.\n",
    "    \n",
    "       Parameters\n",
    "       ----------\n",
    "       M: a square numpy array. \n",
    "       n: non-negative integer.\n",
    "       \n",
    "    \"\"\"\n",
    "    \n",
    "    ## This will return an identity matrix of the \n",
    "    ## right shape and type if n=0.\n",
    "    \n",
    "    if n==0: return np.identity(len(M),dtype=M.dtype)\n",
    "    \n",
    "    ##  YOUR CODE HERE ##\n",
    "    M1=M\n",
    "    m=np.floor(n/2)\n",
    "    for item in range(int(m)+1): M=M.dot(M1)\n",
    "    if n%2==0: return M.dot(M)\n",
    "    if n%2==1: return M.dot(M).dot(M1)\n",
    "    ## APPROX. 4 LINES ##\n",
    "    \n",
    "    "
   ]
  },
  {
   "cell_type": "markdown",
   "metadata": {},
   "source": [
    "<br>\n",
    "\n",
    "<br>\n",
    "\n",
    "<br>\n",
    "\n",
    "<br>\n",
    "\n",
    "<br>\n",
    "\n",
    "<br>\n",
    "\n",
    "<br>\n",
    "\n",
    "<br>"
   ]
  },
  {
   "cell_type": "markdown",
   "metadata": {},
   "source": [
    "### **$\\star$ QUESTION 7:** \n",
    "\n",
    "For \n",
    "\n",
    "$$\n",
    "F \\ = \\ \\left[\n",
    "\\begin{array}{cc}\n",
    " 1 & 1 \\\\\n",
    " 1 & 0 \\\\\n",
    "\\end{array}\n",
    "\\right]\n",
    "$$\n",
    "\n",
    "`print` the result from computing $$F ^{\\,42}\\,.$$"
   ]
  },
  {
   "cell_type": "code",
   "execution_count": 20,
   "metadata": {},
   "outputs": [],
   "source": [
    "##    YOUR CODE HERE   ##\n",
    "F=np.ones(4)\n",
    "F[3]=0\n",
    "F.shape=(2,2)\n",
    "\n",
    "F_42=matrix_power(F,42)\n"
   ]
  },
  {
   "cell_type": "markdown",
   "metadata": {},
   "source": [
    "<br>\n",
    "\n",
    "<br>\n",
    "\n",
    "<br>\n",
    "\n",
    "<br>\n",
    "\n",
    "<br>\n",
    "\n",
    "<br>\n",
    "\n",
    "<br>\n",
    "\n",
    "<br>"
   ]
  },
  {
   "cell_type": "markdown",
   "metadata": {},
   "source": [
    "### **$\\star $ QUESTION 8:** \n",
    "\n",
    "Consider the polynomials: \n",
    "\n",
    "$$\n",
    "T(\\, x\\, ) \\ = \\ 256\\, x^9\\ - \\ 576\\, x^7 \\ + \\ 432\\, x^5 \\ - \\  120 \\, x^3 \\ + \\ 9\\, x\n",
    "$$\n",
    "\n",
    "and\n",
    "\n",
    "$$\n",
    "U(\\,x\\,) \\ = \\ 2304\\, x^8\\ - \\ 4032\\, x^6 \\ + \\ 2160\\, x^4 \\ - \\ 360\\, x^2\\ + \\ 9 \n",
    "$$\n",
    "\n",
    "Write functions that return `T(x)` and `U(x)`. Make side-by-side plots for `T(x)` and `U(x)` for $\\ -1 \\ \\le \\ x  \\ \\le \\ 1$. Label the `x` axes, and give each plot a proper title."
   ]
  },
  {
   "cell_type": "code",
   "execution_count": 21,
   "metadata": {
    "collapsed": true
   },
   "outputs": [],
   "source": [
    "def T(x): \n",
    "    \"\"\"\n",
    "    Returns 9th-order polynomial.\n",
    "    \n",
    "    Parameters\n",
    "    ----------\n",
    "    x: int, float, or numpy array\n",
    "    \n",
    "    \"\"\"\n",
    "    ##  YOUR CODE HERE    ##\n",
    "    return 256*x**9-576*x**7+432*x**5-120*x**3+9*x\n",
    "    ## ONLY 1 LINE NEEDED ##\n",
    "    "
   ]
  },
  {
   "cell_type": "code",
   "execution_count": 22,
   "metadata": {
    "collapsed": true
   },
   "outputs": [],
   "source": [
    "def U(x): \n",
    "    \"\"\"\n",
    "    Returns 8th-order polynomial.\n",
    "    \n",
    "    Parameters\n",
    "    ----------\n",
    "    x: int, float, or numpy array\n",
    "    \n",
    "    \"\"\"\n",
    "    \n",
    "    ##  YOUR CODE HERE    ##\n",
    "    return 2304*x**8-4032*x**6+2160*x**4-360*x**2+9\n",
    "    ## ONLY 1 LINE NEEDED ##\n",
    "    "
   ]
  },
  {
   "cell_type": "code",
   "execution_count": 23,
   "metadata": {},
   "outputs": [
    {
     "data": {
      "text/plain": [
       "<matplotlib.legend.Legend at 0x20fe24aeda0>"
      ]
     },
     "execution_count": 23,
     "metadata": {},
     "output_type": "execute_result"
    },
    {
     "data": {
      "image/png": "[encoded data removed]",
      "text/plain": [
       "<matplotlib.figure.Figure at 0x20fe25cc940>"
      ]
     },
     "metadata": {},
     "output_type": "display_data"
    }
   ],
   "source": [
    "##  MAKE PLOTS HERE ##\n",
    "x=np.linspace(-1,1,1e3)\n",
    "\n",
    "fig, ax = plt.subplots(figsize=(6,6))\n",
    "\n",
    "ax.plot(x,T(x),x,U(x))\n",
    "\n",
    "ax.set_xlabel('x')\n",
    "ax.set_ylabel('f(x)')\n",
    "ax.legend(['T(x)','U(x)'])\n"
   ]
  },
  {
   "cell_type": "markdown",
   "metadata": {},
   "source": [
    "<br>\n",
    "\n",
    "<br>\n",
    "\n",
    "<br>\n",
    "\n",
    "<br>\n",
    "\n",
    "<br>\n",
    "\n",
    "<br>\n",
    "\n",
    "<br>\n",
    "\n",
    "<br>"
   ]
  },
  {
   "cell_type": "markdown",
   "metadata": {},
   "source": [
    "### **$\\star \\star $ QUESTION 9:** \n",
    "\n",
    "Use Newton's method to find ***all*** the solutions to \n",
    "\n",
    "$$\n",
    "T(\\,x\\,) \\ = \\ 0\n",
    "$$\n",
    "\n",
    "Use the plot of $\\ T(\\, x\\, )\\ $ to generate reasonable initial guesses. "
   ]
  },
  {
   "cell_type": "code",
   "execution_count": 24,
   "metadata": {},
   "outputs": [],
   "source": [
    "##  YOUR CODE HERE ##\n",
    "## APPROX. 3 LINES ##\n",
    "def root_T(xold):\n",
    "    error=1e-8\n",
    "    while error>1e-12:\n",
    "        xnew=xold-T(xold)/U(xold)\n",
    "        error=abs(xnew-xold)\n",
    "        if error<1e-12: return abs(xnew-xold), xnew\n",
    "        xold=xnew\n",
    "        \n",
    "    \n",
    "\n"
   ]
  },
  {
   "cell_type": "code",
   "execution_count": 25,
   "metadata": {},
   "outputs": [
    {
     "data": {
      "text/plain": [
       "[<matplotlib.lines.Line2D at 0x20fe255afd0>,\n",
       " <matplotlib.lines.Line2D at 0x20fe2563978>]"
      ]
     },
     "execution_count": 25,
     "metadata": {},
     "output_type": "execute_result"
    },
    {
     "data": {
      "image/png": "[encoded data removed]",
      "text/plain": [
       "<matplotlib.figure.Figure at 0x20fe25dcc88>"
      ]
     },
     "metadata": {},
     "output_type": "display_data"
    }
   ],
   "source": [
    "x=np.linspace(-1,1,1e3)\n",
    "plt.plot(x,T(x),x,x*0)"
   ]
  },
  {
   "cell_type": "code",
   "execution_count": 26,
   "metadata": {},
   "outputs": [],
   "source": [
    "Initial_guesses=[-1,0.5*(-1-.75),0.5*(-.75-.5),0,0.5*(.5+.25),0.5*(.5+.75),0.5*(.75+1),1]\n",
    "x=np.zeros(len(Initial_guesses))\n",
    "error=np.zeros(len(Initial_guesses))\n",
    "for item in range(len(Initial_guesses)):\n",
    "    root=root_T(Initial_guesses[item])\n",
    "    error[item]=root[0]\n",
    "    x[item]=root[1]"
   ]
  },
  {
   "cell_type": "code",
   "execution_count": 27,
   "metadata": {},
   "outputs": [
    {
     "name": "stdout",
     "output_type": "stream",
     "text": [
      "[  3.33066907e-16   1.44328993e-15   4.55191440e-15   0.00000000e+00\n",
      "   6.82787160e-15   4.55191440e-15   1.44328993e-15   3.33066907e-16]\n",
      "[-0.98480775 -0.8660254  -0.64278761  0.          0.34202014  0.64278761\n",
      "  0.8660254   0.98480775]\n"
     ]
    }
   ],
   "source": [
    "print(error)\n",
    "print(x)"
   ]
  },
  {
   "cell_type": "markdown",
   "metadata": {},
   "source": [
    "Print the following statement. It should give you an indication if everything is working right."
   ]
  },
  {
   "cell_type": "code",
   "execution_count": 31,
   "metadata": {},
   "outputs": [
    {
     "name": "stdout",
     "output_type": "stream",
     "text": [
      "[ 17.  15.  13.   9.   7.   5.   3.   1.]\n"
     ]
    }
   ],
   "source": [
    "print(18*np.arccos(x)/np.pi)"
   ]
  },
  {
   "cell_type": "markdown",
   "metadata": {},
   "source": [
    "<br>\n",
    "\n",
    "<br>\n",
    "\n",
    "<br>\n",
    "\n",
    "<br>\n",
    "\n",
    "<br>\n",
    "\n",
    "<br>\n",
    "\n",
    "<br>\n",
    "\n",
    "<br>"
   ]
  },
  {
   "cell_type": "markdown",
   "metadata": {},
   "source": [
    "### **$\\star $ QUESTION 10:** \n",
    "\n",
    "Make a function that computes integrals of the following form using Simpson's rule,\n",
    "\n",
    "$$\n",
    "I \\ = \\ \\int_{a}^{b} f(x) \\, \\mathrm{d}x.\n",
    "$$\n",
    "\n",
    "The function should take a function, $f$ and an appropriate `numpy` array of `x` values. The function should raise an error if the number of points isn't correct for Simpson's rule.\n"
   ]
  },
  {
   "cell_type": "code",
   "execution_count": 32,
   "metadata": {
    "collapsed": true
   },
   "outputs": [],
   "source": [
    "def simp(f,x):\n",
    "    \n",
    "    #get endpoints, and number of *intervals*\n",
    "    a, b, n = x[0], x[-1], len(x)-1\n",
    "    \n",
    "    h = (b-a)/n\n",
    "    \n",
    "    # Check to make sure Simpsons rule will work\n",
    "    if n%2 == 1:\n",
    "        raise ValueError(\"You have an odd number of intervals, an even number of points, and even an odd personality!\")\n",
    "    \n",
    "    # get the (o)dd and (e)ven points out the middle\n",
    "    o, e = x[1:-1:2], x[2:-1:2]\n",
    "    \n",
    "    return (h/3)*( f(a) + 2*np.sum(f(e)) + 4*np.sum(f(o)) + f(b))\n",
    "    \n",
    "    "
   ]
  },
  {
   "cell_type": "markdown",
   "metadata": {},
   "source": [
    "<br>\n",
    "\n",
    "<br>\n",
    "\n",
    "<br>\n",
    "\n",
    "<br>\n",
    "\n",
    "<br>\n",
    "\n",
    "<br>\n",
    "\n",
    "<br>\n",
    "\n",
    "<br>"
   ]
  },
  {
   "cell_type": "markdown",
   "metadata": {},
   "source": [
    "### **$\\star \\star \\star $ QUESTION 11:** \n",
    "\n",
    "Consider \n",
    "\n",
    "$$\n",
    "I \\ = \\ \\int_{-1}^{+1} U(\\,x\\,) \\,\\mathrm{d}x \\ = \\ 2.\n",
    "$$\n",
    "\n",
    "Calculate and plot the relative error from computing $\\ I\\ $ using Simpson's rule for a range of valid numbers of points, `n`, between about `10` and `10,000`.\n",
    "\n",
    "The plot should be on a `log-log` scale. There should be appropriate labelling. Also, include your best guess for the general behaviour of the error. This should a power-law function of the form\n",
    "\n",
    "$$\n",
    " \\left(\\frac{\\mathrm{Constant}}{n}\\right)^{\\, \\mathrm{exponent}}\n",
    "$$\n",
    "\n",
    "Include a legend on your plot indicating the calculated error and estimate. \n"
   ]
  },
  {
   "cell_type": "code",
   "execution_count": 33,
   "metadata": {},
   "outputs": [],
   "source": [
    "## YOUR CODE HERE  ##\n",
    "N=1000\n",
    "error_I=[]\n",
    "n=np.arange(3,N+1)\n",
    "n=n[0:-1:2]\n",
    "for item in n:\n",
    "    x=np.linspace(-1,1,item)\n",
    "    I=simp(U,x)\n",
    "    error_I.append(abs(I-2))\n",
    "## APPROX. 6 LINES ##\n",
    "\n"
   ]
  },
  {
   "cell_type": "code",
   "execution_count": 34,
   "metadata": {},
   "outputs": [
    {
     "name": "stderr",
     "output_type": "stream",
     "text": [
      "C:\\Users\\clo00_000\\Anaconda3\\lib\\site-packages\\ipykernel\\__main__.py:4: RuntimeWarning: invalid value encountered in power\n"
     ]
    },
    {
     "data": {
      "text/plain": [
       "<matplotlib.legend.Legend at 0x20fe26950f0>"
      ]
     },
     "execution_count": 34,
     "metadata": {},
     "output_type": "execute_result"
    },
    {
     "data": {
      "image/png": "[encoded data removed]",
      "text/plain": [
       "<matplotlib.figure.Figure at 0x20fe2570a58>"
      ]
     },
     "metadata": {},
     "output_type": "display_data"
    }
   ],
   "source": [
    "##  MAKE PLOT HERE ##\n",
    "fig, ax = plt.subplots(figsize=(6,6))\n",
    "\n",
    "ax.loglog(n,error_I,n,1/(n**3),n,1/(n**4))\n",
    "\n",
    "ax.set_xlabel('number of steps')\n",
    "ax.set_ylabel('Diviation from the true value')\n",
    "ax.legend(['Error','n^{-3}','n^{-4}'])\n"
   ]
  },
  {
   "cell_type": "markdown",
   "metadata": {},
   "source": [
    "<br>\n",
    "\n",
    "<br>\n",
    "\n",
    "<br>\n",
    "\n",
    "<br>\n",
    "\n",
    "<br>\n",
    "\n",
    "<br>\n",
    "\n",
    "<br>\n",
    "\n",
    "<br>"
   ]
  },
  {
   "cell_type": "markdown",
   "metadata": {},
   "source": [
    "### **$\\star \\star \\star  $ QUESTION 12:** \n",
    "\n",
    "Solve the following non-linear 2-point boundary-value problem using Newton's method and 2nd-order finite differences.\n",
    "\n",
    "$$\n",
    "u''(x) + e^{\\,u(x)} \\ = \\ 1 \\quad \\mathrm{for} \\quad 0 < x < 1 , \\quad \\mathrm{and} \\quad u(0)  \\ = \\ u(1) \\ = \\ 0\n",
    "$$\n",
    "\n",
    "\n",
    "Make a properly labeled plot of the solution. "
   ]
  },
  {
   "cell_type": "code",
   "execution_count": 178,
   "metadata": {
    "collapsed": true
   },
   "outputs": [],
   "source": [
    "def D2(n,scale=False):\n",
    "    \n",
    "    L = np.zeros((n+1,n+1))\n",
    "\n",
    "    for i in range(1,n):\n",
    "        L[i,i-1] = 1\n",
    "        L[i,i]   = -2\n",
    "        L[i,i+1] = 1\n",
    "    \n",
    "    if scale: L *= (n**2)\n",
    "\n",
    "    return L"
   ]
  },
  {
   "cell_type": "code",
   "execution_count": 177,
   "metadata": {
    "collapsed": true
   },
   "outputs": [],
   "source": [
    "def D2_ori(n,scale=False):\n",
    "    \n",
    "    L = np.zeros((n+1,n+1))\n",
    "\n",
    "    for i in range(1,n):\n",
    "        L[i,i-1] = 1\n",
    "        L[i,i]   = -2\n",
    "        L[i,i+1] = 1\n",
    "    \n",
    "    if scale: L *= (n**2)\n",
    "\n",
    "    return L"
   ]
  },
  {
   "cell_type": "code",
   "execution_count": 184,
   "metadata": {},
   "outputs": [
    {
     "data": {
      "text/plain": [
       "<matplotlib.text.Text at 0x20f84ee5b70>"
      ]
     },
     "execution_count": 184,
     "metadata": {},
     "output_type": "execute_result"
    },
    {
     "data": {
      "image/png": "[encoded data removed]",
      "text/plain": [
       "<matplotlib.figure.Figure at 0x20f84cc7898>"
      ]
     },
     "metadata": {},
     "output_type": "display_data"
    },
    {
     "data": {
      "image/png": "[encoded data removed]",
      "text/plain": [
       "<matplotlib.figure.Figure at 0x20f84ebfdd8>"
      ]
     },
     "metadata": {},
     "output_type": "display_data"
    }
   ],
   "source": [
    "x = np.linspace(0,1,421)\n",
    "h= x[1]-x[0]\n",
    "L = D2(420)/h+np.identity((421))\n",
    "L_ori=D2_ori(420)/h\n",
    "\n",
    "L[0,0]   = 1\n",
    "L[-1,-1] = 1\n",
    "\n",
    "L_ori[0,0]   = 1\n",
    "L_ori[-1,-1] = 1\n",
    "\n",
    "R = np.zeros(len(x))+1e-12\n",
    "\n",
    "R[0]  = 0\n",
    "R[-1] = 0\n",
    "\n",
    "u = np.linalg.solve(L,R)\n",
    "u_ori = L_ori.dot(u)\n",
    "\n",
    "fig, ax = plt.subplots(figsize=(6,6))\n",
    "\n",
    "ax.plot(x,u)\n",
    "\n",
    "ax.set_xlabel('x')\n",
    "ax.set_ylabel('u(x)')\n",
    "\n",
    "fig, ax = plt.subplots(figsize=(6,6))\n",
    "\n",
    "ax.plot(x,u_ori+np.exp(u)-1)\n",
    "\n",
    "ax.set_xlabel('x')\n",
    "ax.set_ylabel('d(du/dx)/dx+exp(u)-1')"
   ]
  },
  {
   "cell_type": "code",
   "execution_count": 189,
   "metadata": {},
   "outputs": [],
   "source": [
    "def D(y,x): #Finite differente centered\n",
    "    \n",
    "    Dy = (np.roll(y,-1) - np.roll(y,+1))/(np.roll(x,-1) - np.roll(x,+1))\n",
    "    \n",
    "    return Dy\n",
    "\n",
    "def F(u,x):\n",
    "    uD=D(u,x)\n",
    "    uD2=D(uD,x)\n",
    "    uD3=D(uD2,x)\n",
    "    \n",
    "    f=uD2+np.exp(u)-1\n",
    "    fD=uD3+np.exp(u)\n",
    "    \n",
    "    return f,fD\n",
    "\n",
    "def root_F(uold,x):\n",
    "    error=1e-8\n",
    "    unew=np.zeros(len(x))\n",
    "    while error>1e-10:\n",
    "        f,fD=F(uold,x)\n",
    "        unew=uold-f/fD\n",
    "        error=abs(sum(unew-uold))\n",
    "        if error<1e-10: return abs(unew-uold), unew\n",
    "        uold=unew"
   ]
  },
  {
   "cell_type": "code",
   "execution_count": 190,
   "metadata": {},
   "outputs": [
    {
     "name": "stdout",
     "output_type": "stream",
     "text": [
      "None\n"
     ]
    },
    {
     "name": "stderr",
     "output_type": "stream",
     "text": [
      "C:\\Users\\clo00_000\\Anaconda3\\lib\\site-packages\\ipykernel\\__main__.py:22: RuntimeWarning: divide by zero encountered in true_divide\n",
      "C:\\Users\\clo00_000\\Anaconda3\\lib\\site-packages\\ipykernel\\__main__.py:23: RuntimeWarning: invalid value encountered in double_scalars\n"
     ]
    },
    {
     "ename": "TypeError",
     "evalue": "'NoneType' object is not iterable",
     "output_type": "error",
     "traceback": [
      "\u001b[0;31m---------------------------------------------------------------------------\u001b[0m",
      "\u001b[0;31mTypeError\u001b[0m                                 Traceback (most recent call last)",
      "\u001b[0;32m<ipython-input-190-8dc6f0768504>\u001b[0m in \u001b[0;36m<module>\u001b[0;34m()\u001b[0m\n\u001b[1;32m      3\u001b[0m \u001b[0mu_guess\u001b[0m\u001b[1;33m=\u001b[0m\u001b[0mnp\u001b[0m\u001b[1;33m.\u001b[0m\u001b[0mzeros\u001b[0m\u001b[1;33m(\u001b[0m\u001b[0mlen\u001b[0m\u001b[1;33m(\u001b[0m\u001b[0mx\u001b[0m\u001b[1;33m)\u001b[0m\u001b[1;33m)\u001b[0m\u001b[1;33m+\u001b[0m\u001b[1;36m1e-12\u001b[0m\u001b[1;33m\u001b[0m\u001b[0m\n\u001b[1;32m      4\u001b[0m \u001b[0mprint\u001b[0m\u001b[1;33m(\u001b[0m\u001b[0mroot_F\u001b[0m\u001b[1;33m(\u001b[0m\u001b[0mu_guess\u001b[0m\u001b[1;33m,\u001b[0m\u001b[0mx\u001b[0m\u001b[1;33m)\u001b[0m\u001b[1;33m)\u001b[0m\u001b[1;33m\u001b[0m\u001b[0m\n\u001b[0;32m----> 5\u001b[0;31m \u001b[0mError\u001b[0m\u001b[1;33m,\u001b[0m \u001b[0munl\u001b[0m \u001b[1;33m=\u001b[0m \u001b[0mroot_F\u001b[0m\u001b[1;33m(\u001b[0m\u001b[0mu_guess\u001b[0m\u001b[1;33m,\u001b[0m\u001b[0mx\u001b[0m\u001b[1;33m)\u001b[0m\u001b[1;33m\u001b[0m\u001b[0m\n\u001b[0m\u001b[1;32m      6\u001b[0m \u001b[0mprint\u001b[0m\u001b[1;33m(\u001b[0m\u001b[0mError\u001b[0m\u001b[1;33m,\u001b[0m\u001b[0munl\u001b[0m\u001b[1;33m)\u001b[0m\u001b[1;33m\u001b[0m\u001b[0m\n",
      "\u001b[0;31mTypeError\u001b[0m: 'NoneType' object is not iterable"
     ]
    }
   ],
   "source": [
    "N=500\n",
    "x=np.linspace(0,1,N)\n",
    "u_guess=np.zeros(len(x))+1e-12\n",
    "print(root_F(u_guess,x))\n",
    "Error, unl = root_F(u_guess,x)\n",
    "print(Error,unl)"
   ]
  },
  {
   "cell_type": "code",
   "execution_count": 161,
   "metadata": {},
   "outputs": [
    {
     "name": "stdout",
     "output_type": "stream",
     "text": [
      "[ -7.90058775e+02   7.52798416e+02  -1.95987337e+05  -3.10001320e+01\n",
      "  -3.09958310e+01  -3.09903014e+01  -3.09835434e+01  -3.09755574e+01\n",
      "  -3.09663436e+01  -3.09559024e+01  -3.09442342e+01  -3.09313395e+01\n",
      "  -3.09172188e+01  -3.09018726e+01  -3.08853015e+01  -3.08675063e+01\n",
      "  -3.08484876e+01  -3.08282461e+01  -3.08067828e+01  -3.07840983e+01\n",
      "  -3.07601937e+01  -3.07350698e+01  -3.07087277e+01  -3.06811684e+01\n",
      "  -3.06523930e+01  -3.06224027e+01  -3.05911986e+01  -3.05587819e+01\n",
      "  -3.05251540e+01  -3.04903162e+01  -3.04542698e+01  -3.04170164e+01\n",
      "  -3.03785573e+01  -3.03388941e+01  -3.02980284e+01  -3.02559617e+01\n",
      "  -3.02126958e+01  -3.01682324e+01  -3.01225732e+01  -3.00757201e+01\n",
      "  -3.00276749e+01  -2.99784394e+01  -2.99280157e+01  -2.98764058e+01\n",
      "  -2.98236117e+01  -2.97696354e+01  -2.97144792e+01  -2.96581452e+01\n",
      "  -2.96006356e+01  -2.95419528e+01  -2.94820991e+01  -2.94210767e+01\n",
      "  -2.93588882e+01  -2.92955361e+01  -2.92310227e+01  -2.91653507e+01\n",
      "  -2.90985227e+01  -2.90305414e+01  -2.89614093e+01  -2.88911294e+01\n",
      "  -2.88197043e+01  -2.87471368e+01  -2.86734299e+01  -2.85985865e+01\n",
      "  -2.85226096e+01  -2.84455021e+01  -2.83672671e+01  -2.82879078e+01\n",
      "  -2.82074272e+01  -2.81258285e+01  -2.80431151e+01  -2.79592901e+01\n",
      "  -2.78743568e+01  -2.77883188e+01  -2.77011793e+01  -2.76129418e+01\n",
      "  -2.75236099e+01  -2.74331869e+01  -2.73416767e+01  -2.72490827e+01\n",
      "  -2.71554086e+01  -2.70606582e+01  -2.69648352e+01  -2.68679434e+01\n",
      "  -2.67699866e+01  -2.66709688e+01  -2.65708938e+01  -2.64697657e+01\n",
      "  -2.63675883e+01  -2.62643659e+01  -2.61601024e+01  -2.60548020e+01\n",
      "  -2.59484688e+01  -2.58411072e+01  -2.57327213e+01  -2.56233155e+01\n",
      "  -2.55128940e+01  -2.54014613e+01  -2.52890218e+01  -2.51755799e+01\n",
      "  -2.50611401e+01  -2.49457069e+01  -2.48292850e+01  -2.47118790e+01\n",
      "  -2.45934934e+01  -2.44741331e+01  -2.43538027e+01  -2.42325069e+01\n",
      "  -2.41102507e+01  -2.39870388e+01  -2.38628762e+01  -2.37377677e+01\n",
      "  -2.36117184e+01  -2.34847331e+01  -2.33568170e+01  -2.32279751e+01\n",
      "  -2.30982125e+01  -2.29675344e+01  -2.28359459e+01  -2.27034523e+01\n",
      "  -2.25700588e+01  -2.24357707e+01  -2.23005933e+01  -2.21645320e+01\n",
      "  -2.20275921e+01  -2.18897792e+01  -2.17510986e+01  -2.16115559e+01\n",
      "  -2.14711566e+01  -2.13299062e+01  -2.11878104e+01  -2.10448748e+01\n",
      "  -2.09011050e+01  -2.07565067e+01  -2.06110858e+01  -2.04648479e+01\n",
      "  -2.03177988e+01  -2.01699444e+01  -2.00212906e+01  -1.98718431e+01\n",
      "  -1.97216080e+01  -1.95705912e+01  -1.94187987e+01  -1.92662365e+01\n",
      "  -1.91129107e+01  -1.89588272e+01  -1.88039923e+01  -1.86484121e+01\n",
      "  -1.84920927e+01  -1.83350404e+01  -1.81772613e+01  -1.80187617e+01\n",
      "  -1.78595480e+01  -1.76996263e+01  -1.75390031e+01  -1.73776847e+01\n",
      "  -1.72156775e+01  -1.70529879e+01  -1.68896224e+01  -1.67255874e+01\n",
      "  -1.65608895e+01  -1.63955352e+01  -1.62295310e+01  -1.60628836e+01\n",
      "  -1.58955994e+01  -1.57276853e+01  -1.55591477e+01  -1.53899934e+01\n",
      "  -1.52202291e+01  -1.50498615e+01  -1.48788974e+01  -1.47073435e+01\n",
      "  -1.45352067e+01  -1.43624938e+01  -1.41892115e+01  -1.40153669e+01\n",
      "  -1.38409667e+01  -1.36660180e+01  -1.34905275e+01  -1.33145024e+01\n",
      "  -1.31379495e+01  -1.29608758e+01  -1.27832885e+01  -1.26051944e+01\n",
      "  -1.24266007e+01  -1.22475145e+01  -1.20679428e+01  -1.18878928e+01\n",
      "  -1.17073715e+01  -1.15263863e+01  -1.13449442e+01  -1.11630524e+01\n",
      "  -1.09807181e+01  -1.07979486e+01  -1.06147511e+01  -1.04311328e+01\n",
      "  -1.02471011e+01  -1.00626633e+01  -9.87782658e+00  -9.69259836e+00\n",
      "  -9.50698594e+00  -9.32099670e+00  -9.13463802e+00  -8.94791726e+00\n",
      "  -8.76084184e+00  -8.57341917e+00  -8.38565668e+00  -8.19756179e+00\n",
      "  -8.00914200e+00  -7.82040475e+00  -7.63135752e+00  -7.44200781e+00\n",
      "  -7.25236313e+00  -7.06243098e+00  -6.87221890e+00  -6.68173443e+00\n",
      "  -6.49098512e+00  -6.29997853e+00  -6.10872223e+00  -5.91722379e+00\n",
      "  -5.72549083e+00  -5.53353092e+00  -5.34135167e+00  -5.14896072e+00\n",
      "  -4.95636568e+00  -4.76357418e+00  -4.57059387e+00  -4.37743240e+00\n",
      "  -4.18409743e+00  -3.99059660e+00  -3.79693761e+00  -3.60312812e+00\n",
      "  -3.40917580e+00  -3.21508836e+00  -3.02087349e+00  -2.82653888e+00\n",
      "  -2.63209223e+00  -2.43754126e+00  -2.24289367e+00  -2.04815718e+00\n",
      "  -1.85333951e+00  -1.65844838e+00  -1.46349151e+00  -1.26847664e+00\n",
      "  -1.07341148e+00  -8.78303780e-01  -6.83161267e-01  -4.87991678e-01\n",
      "  -2.92802745e-01  -9.76022043e-02   9.76022043e-02   2.92802745e-01\n",
      "   4.87991678e-01   6.83161267e-01   8.78303782e-01   1.07341148e+00\n",
      "   1.26847663e+00   1.46349151e+00   1.65844838e+00   1.85333952e+00\n",
      "   2.04815718e+00   2.24289367e+00   2.43754126e+00   2.63209223e+00\n",
      "   2.82653888e+00   3.02087349e+00   3.21508837e+00   3.40917581e+00\n",
      "   3.60312811e+00   3.79693761e+00   3.99059660e+00   4.18409742e+00\n",
      "   4.37743240e+00   4.57059388e+00   4.76357418e+00   4.95636568e+00\n",
      "   5.14896072e+00   5.34135167e+00   5.53353091e+00   5.72549083e+00\n",
      "   5.91722380e+00   6.10872223e+00   6.29997853e+00   6.49098512e+00\n",
      "   6.68173443e+00   6.87221890e+00   7.06243098e+00   7.25236312e+00\n",
      "   7.44200781e+00   7.63135752e+00   7.82040475e+00   8.00914201e+00\n",
      "   8.19756180e+00   8.38565667e+00   8.57341917e+00   8.76084184e+00\n",
      "   8.94791726e+00   9.13463802e+00   9.32099671e+00   9.50698594e+00\n",
      "   9.69259835e+00   9.87782658e+00   1.00626633e+01   1.02471011e+01\n",
      "   1.04311328e+01   1.06147511e+01   1.07979486e+01   1.09807181e+01\n",
      "   1.11630524e+01   1.13449442e+01   1.15263863e+01   1.17073715e+01\n",
      "   1.18878928e+01   1.20679428e+01   1.22475145e+01   1.24266007e+01\n",
      "   1.26051944e+01   1.27832885e+01   1.29608758e+01   1.31379495e+01\n",
      "   1.33145024e+01   1.34905275e+01   1.36660180e+01   1.38409667e+01\n",
      "   1.40153669e+01   1.41892115e+01   1.43624938e+01   1.45352067e+01\n",
      "   1.47073435e+01   1.48788974e+01   1.50498615e+01   1.52202291e+01\n",
      "   1.53899934e+01   1.55591477e+01   1.57276853e+01   1.58955994e+01\n",
      "   1.60628836e+01   1.62295311e+01   1.63955352e+01   1.65608895e+01\n",
      "   1.67255874e+01   1.68896224e+01   1.70529879e+01   1.72156775e+01\n",
      "   1.73776847e+01   1.75390031e+01   1.76996263e+01   1.78595480e+01\n",
      "   1.80187617e+01   1.81772613e+01   1.83350404e+01   1.84920927e+01\n",
      "   1.86484121e+01   1.88039923e+01   1.89588272e+01   1.91129107e+01\n",
      "   1.92662365e+01   1.94187987e+01   1.95705912e+01   1.97216080e+01\n",
      "   1.98718431e+01   2.00212906e+01   2.01699444e+01   2.03177988e+01\n",
      "   2.04648479e+01   2.06110858e+01   2.07565067e+01   2.09011050e+01\n",
      "   2.10448748e+01   2.11878104e+01   2.13299062e+01   2.14711566e+01\n",
      "   2.16115559e+01   2.17510986e+01   2.18897792e+01   2.20275921e+01\n",
      "   2.21645320e+01   2.23005933e+01   2.24357707e+01   2.25700588e+01\n",
      "   2.27034523e+01   2.28359459e+01   2.29675344e+01   2.30982125e+01\n",
      "   2.32279751e+01   2.33568170e+01   2.34847331e+01   2.36117184e+01\n",
      "   2.37377677e+01   2.38628762e+01   2.39870389e+01   2.41102507e+01\n",
      "   2.42325069e+01   2.43538027e+01   2.44741331e+01   2.45934934e+01\n",
      "   2.47118790e+01   2.48292850e+01   2.49457069e+01   2.50611401e+01\n",
      "   2.51755798e+01   2.52890218e+01   2.54014613e+01   2.55128940e+01\n",
      "   2.56233155e+01   2.57327214e+01   2.58411072e+01   2.59484688e+01\n",
      "   2.60548020e+01   2.61601024e+01   2.62643658e+01   2.63675883e+01\n",
      "   2.64697657e+01   2.65708938e+01   2.66709688e+01   2.67699866e+01\n",
      "   2.68679434e+01   2.69648352e+01   2.70606582e+01   2.71554086e+01\n",
      "   2.72490827e+01   2.73416767e+01   2.74331869e+01   2.75236098e+01\n",
      "   2.76129418e+01   2.77011793e+01   2.77883188e+01   2.78743568e+01\n",
      "   2.79592901e+01   2.80431150e+01   2.81258285e+01   2.82074272e+01\n",
      "   2.82879078e+01   2.83672671e+01   2.84455021e+01   2.85226096e+01\n",
      "   2.85985865e+01   2.86734299e+01   2.87471368e+01   2.88197042e+01\n",
      "   2.88911294e+01   2.89614094e+01   2.90305414e+01   2.90985227e+01\n",
      "   2.91653507e+01   2.92310227e+01   2.92955361e+01   2.93588882e+01\n",
      "   2.94210767e+01   2.94820991e+01   2.95419528e+01   2.96006356e+01\n",
      "   2.96581452e+01   2.97144792e+01   2.97696354e+01   2.98236117e+01\n",
      "   2.98764058e+01   2.99280157e+01   2.99784394e+01   3.00276748e+01\n",
      "   3.00757201e+01   3.01225733e+01   3.01682324e+01   3.02126958e+01\n",
      "   3.02559617e+01   3.02980284e+01   3.03388941e+01   3.03785573e+01\n",
      "   3.04170164e+01   3.04542698e+01   3.04903162e+01   3.05251540e+01\n",
      "   3.05587819e+01   3.05911986e+01   3.06224027e+01   3.06523930e+01\n",
      "   3.06811684e+01   3.07087277e+01   3.07350698e+01   3.07601937e+01\n",
      "   3.07840983e+01   3.08067828e+01   3.08282461e+01   3.08484876e+01\n",
      "   3.08675063e+01   3.08853015e+01   3.09018726e+01   3.09172188e+01\n",
      "   3.09313395e+01   3.09442342e+01   3.09559024e+01   3.09663436e+01\n",
      "   3.09755574e+01   3.09835434e+01   3.09903014e+01   3.09958310e+01\n",
      "   3.10001320e+01   1.95987337e+05  -7.52798416e+02   7.90058775e+02]\n"
     ]
    }
   ],
   "source": [
    "    uD=D(u_guess,x)\n",
    "    uD2=D(uD,x)\n",
    "    print(D(uD2,x))"
   ]
  },
  {
   "cell_type": "code",
   "execution_count": 125,
   "metadata": {},
   "outputs": [
    {
     "data": {
      "text/plain": [
       "<matplotlib.text.Text at 0x20f847c5240>"
      ]
     },
     "execution_count": 125,
     "metadata": {},
     "output_type": "execute_result"
    },
    {
     "data": {
      "image/png": "[encoded data removed]",
      "text/plain": [
       "<matplotlib.figure.Figure at 0x20f847c54e0>"
      ]
     },
     "metadata": {},
     "output_type": "display_data"
    }
   ],
   "source": [
    "## MAKE PLOT HERE ##\n",
    "fu,fuD=F(unl,x)\n",
    "plt.plot(x,fuD)\n",
    "\n",
    "ax.set_xlabel('x')\n",
    "ax.set_ylabel('d(du/dx)/dx+exp(u)-1')"
   ]
  },
  {
   "cell_type": "markdown",
   "metadata": {},
   "source": [
    "<br>\n",
    "\n",
    "<br>\n",
    "\n",
    "<br>\n",
    "\n",
    "<br>\n",
    "\n",
    "<br>\n",
    "\n",
    "<br>\n",
    "\n",
    "<br>\n",
    "\n",
    "<br>"
   ]
  },
  {
   "cell_type": "markdown",
   "metadata": {},
   "source": [
    "### **$\\star \\star  $ QUESTION 13:** \n",
    "\n",
    "Solve the following initial-value problem using a 4th-order Runge-Kutta method.\n",
    "\n",
    "\n",
    "$$\n",
    "x'(t) \\ = \\ y(t) \\quad y'(t) \\ = \\  1  \\ - \\  e^{\\,x(t)} \\quad \\mathrm{with} \\quad x(0) \\ = \\ 0 , \\quad \\mathrm{and} \\quad y(0) \\ = \\ 1\n",
    "$$\n",
    "\n",
    "Use a timestep size $\\ dt \\  = \\  1/64$. Make a plot of $x(t)$ and $x'(t)$ on the same plot for $\\ 0 \\ \\le \\ t \\  \\le 32$. Make sure to include labels and a legend. "
   ]
  },
  {
   "cell_type": "code",
   "execution_count": 42,
   "metadata": {
    "collapsed": true
   },
   "outputs": [],
   "source": [
    "## YOUR CODE HERE ##\n",
    "class RK4():\n",
    "    \n",
    "    def __init__(self,start,forcing,time=0):\n",
    "        self.time = [time]\n",
    "        self.data = [start]\n",
    "        self.RHS  = forcing\n",
    "        \n",
    "    def __call__(self,dt):\n",
    "        \n",
    "        self.time += [ self.time[-1] + dt ]\n",
    "        \n",
    "        x = self.data[-1]\n",
    "        f = self.RHS\n",
    "        \n",
    "        i1 = (dt/2)*f(x)\n",
    "        i2 = (dt/2)*f(x+i1)\n",
    "        i3 =   (dt)*f(x+i2)\n",
    "        i4 = (dt/2)*f(x+i3)\n",
    "        \n",
    "        self.data += [ x + (1/3)*( i1 + 2*i2 + i3 + i4 ) ]\n",
    "    \n",
    "    def state(self):\n",
    "        return np.array(self.time), np.array(self.data).T       \n",
    "    \n",
    "    def now(self):\n",
    "        return self.time[-1]\n",
    "\n"
   ]
  },
  {
   "cell_type": "code",
   "execution_count": 38,
   "metadata": {
    "collapsed": true
   },
   "outputs": [],
   "source": [
    "class IVP_x():\n",
    "    \n",
    "    def __init__(self,linear=False):\n",
    "        self.linear = linear\n",
    "        \n",
    "    def __call__(self,x):\n",
    "        \n",
    "        f0 =  x[1]\n",
    "        f1 =  1-np.exp(x[0])\n",
    "        \n",
    "        return np.array( [ f0, f1 ] )"
   ]
  },
  {
   "cell_type": "code",
   "execution_count": 39,
   "metadata": {},
   "outputs": [],
   "source": [
    "X=IVP_x()"
   ]
  },
  {
   "cell_type": "code",
   "execution_count": 43,
   "metadata": {},
   "outputs": [],
   "source": [
    "initial_data_x = np.array([0,1])\n",
    "\n",
    "nonlinear_RK4    = RK4(initial_data_x,X)"
   ]
  },
  {
   "cell_type": "code",
   "execution_count": 44,
   "metadata": {},
   "outputs": [],
   "source": [
    "dt=1/64\n",
    "\n",
    "while nonlinear_RK4.now() < 32:\n",
    "    nonlinear_RK4(dt)\n",
    "    \n",
    "t, xn = nonlinear_RK4.state()\n",
    "t, yn = nonlinear_RK4.state()\n",
    "yn[0]=xn[1]\n",
    "yn[1]=1-np.exp(xn[0])"
   ]
  },
  {
   "cell_type": "code",
   "execution_count": 45,
   "metadata": {},
   "outputs": [
    {
     "data": {
      "text/plain": [
       "<matplotlib.legend.Legend at 0x20fe26a8fd0>"
      ]
     },
     "execution_count": 45,
     "metadata": {},
     "output_type": "execute_result"
    },
    {
     "data": {
      "image/png": "[encoded data removed]",
      "text/plain": [
       "<matplotlib.figure.Figure at 0x20fe2683940>"
      ]
     },
     "metadata": {},
     "output_type": "display_data"
    }
   ],
   "source": [
    "plt.plot(t,xn[0],t,xn[1])\n",
    "ax.legend(['x','dx/dt'])"
   ]
  },
  {
   "cell_type": "code",
   "execution_count": 46,
   "metadata": {},
   "outputs": [
    {
     "data": {
      "text/plain": [
       "<matplotlib.legend.Legend at 0x20fe3d33588>"
      ]
     },
     "execution_count": 46,
     "metadata": {},
     "output_type": "execute_result"
    },
    {
     "data": {
      "image/png": "[encoded data removed]",
      "text/plain": [
       "<matplotlib.figure.Figure at 0x20fe3d33400>"
      ]
     },
     "metadata": {},
     "output_type": "display_data"
    }
   ],
   "source": [
    "plt.plot(t,yn[0],t,yn[1])\n",
    "ax.legend(['y','dy/dt'])"
   ]
  },
  {
   "cell_type": "code",
   "execution_count": 47,
   "metadata": {
    "collapsed": true
   },
   "outputs": [],
   "source": [
    "import matplotlib.pyplot as plt\n",
    "%matplotlib inline\n",
    "\n",
    "def time_plots(X,ylabel=''):\n",
    "\n",
    "    fig, ax = plt.subplots()\n",
    "\n",
    "    for x in X:\n",
    "        ax.plot(t,x)\n",
    "    \n",
    "    ax.set_xlabel('t')\n",
    "    ax.set_ylabel(ylabel)"
   ]
  },
  {
   "cell_type": "code",
   "execution_count": 48,
   "metadata": {},
   "outputs": [
    {
     "data": {
      "image/png": "[encoded data removed]",
      "text/plain": [
       "<matplotlib.figure.Figure at 0x20fe406a278>"
      ]
     },
     "metadata": {},
     "output_type": "display_data"
    }
   ],
   "source": [
    "time_plots([xn[0],xn[1]],ylabel='x, dx/dt')"
   ]
  },
  {
   "cell_type": "markdown",
   "metadata": {},
   "source": [
    "### **$\\star $** \n",
    "\n",
    "The following quantity should stay constant in time.\n",
    "\n",
    "$$\n",
    "Z \\ = \\ \\frac{x'(t)^{2}}{2} \\ + \\ e^{\\,x(t)} \\ - \\ x(t) \\ - \\ \\frac{3}{2}\n",
    "$$\n",
    "\n",
    "Make a plot of $Z$ as a function of time. "
   ]
  },
  {
   "cell_type": "code",
   "execution_count": 49,
   "metadata": {},
   "outputs": [
    {
     "data": {
      "text/plain": [
       "<matplotlib.text.Text at 0x20fe410e9e8>"
      ]
     },
     "execution_count": 49,
     "metadata": {},
     "output_type": "execute_result"
    },
    {
     "data": {
      "image/png": "[encoded data removed]",
      "text/plain": [
       "<matplotlib.figure.Figure at 0x20fe4065128>"
      ]
     },
     "metadata": {},
     "output_type": "display_data"
    }
   ],
   "source": [
    "## MAKE PLOT HERE ##\n",
    "Z = 0.5*yn[0]**2+np.exp(xn[0])-xn[0]-1.5\n",
    "\n",
    "fig, ax = plt.subplots(figsize=(6,6))\n",
    "\n",
    "ax.plot(t,Z)\n",
    "\n",
    "ax.set_xlabel('t')\n",
    "ax.set_ylabel('Z(t)')"
   ]
  },
  {
   "cell_type": "markdown",
   "metadata": {},
   "source": [
    "<br>\n",
    "\n",
    "<br>\n",
    "\n",
    "<br>\n",
    "\n",
    "<br>\n",
    "\n",
    "<br>\n",
    "\n",
    "<br>\n",
    "\n",
    "<br>\n",
    "\n",
    "<br>"
   ]
  },
  {
   "cell_type": "markdown",
   "metadata": {},
   "source": [
    "### **$\\star \\star $ QUESTION 14:** \n",
    "\n",
    "Extend your solution from **QUESTION 13** up to $\\ t\\  = \\ 4096\\ $. Make a periodogram of $x(t)$ and $x'(t)$ the same plot. "
   ]
  },
  {
   "cell_type": "code",
   "execution_count": 55,
   "metadata": {},
   "outputs": [],
   "source": [
    "## YOUR CODE HERE ##\n",
    "dt=1/64\n",
    "#dt=0.5*dt\n",
    "while nonlinear_RK4.now() < 4096:\n",
    "    nonlinear_RK4(dt)\n",
    "    \n",
    "t, xn = nonlinear_RK4.state()\n",
    "t, yn = nonlinear_RK4.state()\n",
    "yn[0], yn[1]=  xn[1], 1-np.exp(xn[0])"
   ]
  },
  {
   "cell_type": "code",
   "execution_count": 56,
   "metadata": {},
   "outputs": [
    {
     "data": {
      "text/plain": [
       "<matplotlib.text.Text at 0x20fe40042b0>"
      ]
     },
     "execution_count": 56,
     "metadata": {},
     "output_type": "execute_result"
    },
    {
     "data": {
      "image/png": "[encoded data removed]",
      "text/plain": [
       "<matplotlib.figure.Figure at 0x20fdfe23160>"
      ]
     },
     "metadata": {},
     "output_type": "display_data"
    }
   ],
   "source": [
    "Z = 0.5*yn[0]**2+np.exp(xn[0])-xn[0]-1.5\n",
    "\n",
    "fig, ax = plt.subplots(figsize=(6,6))\n",
    "\n",
    "ax.plot(t,abs(Z))\n",
    "\n",
    "ax.set_xlabel('t')\n",
    "ax.set_ylabel('|Z(t)|')"
   ]
  },
  {
   "cell_type": "code",
   "execution_count": 0,
   "metadata": {
    "collapsed": true
   },
   "outputs": [],
   "source": []
  },
  {
   "cell_type": "markdown",
   "metadata": {},
   "source": [
    "<br>\n",
    "\n",
    "<br>\n",
    "\n",
    "<br>\n",
    "\n",
    "<br>\n",
    "\n",
    "<br>\n",
    "\n",
    "<br>\n",
    "\n",
    "<br>\n",
    "\n",
    "<br>\n",
    "\n",
    "# END EXAM HERE"
   ]
  },
  {
   "cell_type": "code",
   "execution_count": 0,
   "metadata": {
    "collapsed": true
   },
   "outputs": [],
   "source": []
  }
 ],
 "metadata": {
  "kernelspec": {
   "display_name": "Python 3",
   "language": "python",
   "name": "python3"
  },
  "language_info": {
   "codemirror_mode": {
    "name": "ipython",
    "version": 3
   },
   "file_extension": ".py",
   "mimetype": "text/x-python",
   "name": "python",
   "nbconvert_exporter": "python",
   "pygments_lexer": "ipython3",
   "version": "3.6.4"
  }
 },
 "nbformat": 4,
 "nbformat_minor": 1
}
